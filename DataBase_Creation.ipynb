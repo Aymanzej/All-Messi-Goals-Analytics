{
 "cells": [
  {
   "cell_type": "code",
   "execution_count": null,
   "id": "5701229e",
   "metadata": {},
   "outputs": [],
   "source": [
    "import numpy as np"
   ]
  },
  {
   "cell_type": "code",
   "execution_count": null,
   "id": "b9842f2d",
   "metadata": {},
   "outputs": [],
   "source": [
    "import pandas as pd\n",
    "\n",
    "from warnings import filterwarnings\n",
    "filterwarnings('ignore')"
   ]
  },
  {
   "cell_type": "code",
   "execution_count": null,
   "id": "5e01efbf",
   "metadata": {},
   "outputs": [],
   "source": []
  },
  {
   "cell_type": "code",
   "execution_count": 33,
   "id": "3f550b4c",
   "metadata": {},
   "outputs": [
    {
     "name": "stdout",
     "output_type": "stream",
     "text": [
      "2 tables found.\n",
      "    Compétition     Compétition.1       Journée          Date     Dom./Ext.  \\\n",
      "0  Saison 04/05      Saison 04/05  Saison 04/05  Saison 04/05  Saison 04/05   \n",
      "1           NaN  2ª B - Grupo III             2    05/09/2004             D   \n",
      "2           NaN  2ª B - Grupo III             4    18/09/2004             D   \n",
      "3           NaN  2ª B - Grupo III            10    31/10/2004             E   \n",
      "4           NaN  2ª B - Grupo III            14    28/11/2004             E   \n",
      "\n",
      "           Pour        Pour.1        Contre              Contre.1  \\\n",
      "0  Saison 04/05  Saison 04/05  Saison 04/05          Saison 04/05   \n",
      "1           NaN          (1.)           NaN        Girona FC (5.)   \n",
      "2           NaN          (1.)           NaN  RCD Espanyol B (17.)   \n",
      "3           NaN          (1.)           NaN   Villajoyosa CF (8.)   \n",
      "4           NaN          (1.)           NaN     UE Figueres (15.)   \n",
      "\n",
      "       Résultat          Pos.        Minute   À ce moment         Type de but  \\\n",
      "0  Saison 04/05  Saison 04/05  Saison 04/05  Saison 04/05        Saison 04/05   \n",
      "1           1:2           AiG           65'           1:2  Tir du pied gauche   \n",
      "2           2:0           AiG           88'           2:0  Tir du pied gauche   \n",
      "3           2:1            MO            2'           0:1        Non rapporté   \n",
      "4           2:2            MO           20'           0:1        Non rapporté   \n",
      "\n",
      "          Passeur   Unnamed: 15   Unnamed: 16   Unnamed: 17  \n",
      "0    Saison 04/05  Saison 04/05  Saison 04/05  Saison 04/05  \n",
      "1  Dani Fernández           NaN           NaN           NaN  \n",
      "2  Dani Fernández           NaN           NaN           NaN  \n",
      "3             NaN           NaN           NaN           NaN  \n",
      "4             NaN           NaN           NaN           NaN  \n"
     ]
    }
   ],
   "source": [
    "import pandas as pd\n",
    "import requests\n",
    "\n",
    "# URL de la page Transfermarkt des buts de Messi\n",
    "url = \"https://www.transfermarkt.fr/lionel-messi/alletore/spieler/28003/saison//verein/0/liga/0/wettbewerb//pos/0/trainer_id/0/minute/0/torart/0/plus/1\"\n",
    "\n",
    "# En-têtes pour simuler un navigateur (important avec Transfermarkt)\n",
    "headers = {\n",
    "    \"User-Agent\": \"Mozilla/5.0 (Windows NT 10.0; Win64; x64) AppleWebKit/537.36 (KHTML, like Gecko) Chrome/115.0.0.0 Safari/537.36\"\n",
    "}\n",
    "\n",
    "# --- 1. Requête HTTP ---\n",
    "response = requests.get(url, headers=headers)\n",
    "\n",
    "# Vérification du statut\n",
    "if response.status_code == 200:\n",
    "    # --- 2. Extraction des tables via pandas ---\n",
    "    tables = pd.read_html(response.text)\n",
    "    \n",
    "    # Affichage du nombre de tableaux trouvés\n",
    "    print(f\"{len(tables)} tables found.\")\n",
    "    \n",
    "    # Supposons que le tableau principal est le 1er (parfois 1 ou 2 selon la page)\n",
    "    df = tables[1]\n",
    "\n",
    "    # --- 3. Affichage des premières lignes ---\n",
    "    print(df.head())\n",
    "\n",
    "    # --- 4. Optionnel : Sauvegarde locale ---\n",
    "    #df.to_csv(\"messi_goals_transfermarkt.csv\", index=False)\n",
    "else:\n",
    "    print(\"Erreur lors du chargement de la page :\", response.status_code)\n"
   ]
  },
  {
   "cell_type": "code",
   "execution_count": null,
   "id": "ca0bb327",
   "metadata": {},
   "outputs": [],
   "source": []
  },
  {
   "cell_type": "code",
   "execution_count": null,
   "id": "a30679e0",
   "metadata": {},
   "outputs": [],
   "source": []
  },
  {
   "cell_type": "code",
   "execution_count": null,
   "id": "2c305b7d",
   "metadata": {},
   "outputs": [],
   "source": []
  }
 ],
 "metadata": {
  "kernelspec": {
   "display_name": "Python 3 (ipykernel)",
   "language": "python",
   "name": "python3"
  },
  "language_info": {
   "codemirror_mode": {
    "name": "ipython",
    "version": 3
   },
   "file_extension": ".py",
   "mimetype": "text/x-python",
   "name": "python",
   "nbconvert_exporter": "python",
   "pygments_lexer": "ipython3",
   "version": "3.11.5"
  }
 },
 "nbformat": 4,
 "nbformat_minor": 5
}
